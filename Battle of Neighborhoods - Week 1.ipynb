{
 "cells": [
  {
   "cell_type": "markdown",
   "metadata": {
    "collapsed": true
   },
   "source": [
    "<h1>Introduction & Business Problem</h1>\n",
    "\n",
    "<b>Background:</b>\n",
    "The City of New York, is the most populous city in the United States. It is diverse and is the financial capital of USA. It is multicultural. It provides lot of business oppourtunities and business friendly environment. It has attracted many different players into the market. It is a global hub of business and commerce. The city is a major center for banking and finance, retailing, world trade, transportation, tourism, real estate, new media, traditional media, advertising, legal services, accountancy, insurance, theater, fashion, and the arts in the United States.\n",
    "\n",
    "This means high demand, market and vast opportunities. The insights derived from analysis will give good understanding of the top restaraurant businesses which help in chosing right place to start.\n",
    "\n",
    "<b>Problem Description:</b>\n",
    "Famous chief Doug Cook decided on moving to New York City and to conqure Manhattan! \n",
    "Easy to say, but proper location must be chosen in order for the idea to be realized in the best possible way and suceed over the year. As Doug Cook is ambitious, he desires to compete with highest rated and liked places. \n",
    "\n",
    "The ranking of the places will be based on popularity among users, as well as the rating of venues, according to data on Foursquare.\n",
    "\n",
    "It will be then decided on whether to pick a location where the most popular venue is rather attraction or if it's a high quality place to have a dinner.\n",
    "\n",
    "<h1>Scope</h1>\n",
    "\n",
    "This is a relevant challenge with valid questions for anyone looking to starting own restaurant businees in higly competitive city.\n",
    "The same methodology can be applied in accordance to demands as applicable changing paramateres and requirements. This case is also applicable for anyone interested in exploring starting or locating a new business in any city. It, of course, can serve as a good practical exercise to develop Data Science skills.\n",
    "The scope of this report is to help to identify venues with highest rating and to recommend a list of these places.\n",
    "\n",
    "<h1>Data</h1>\n",
    "\n",
    "Based on definition of our problem, factors that will influence the recommendation are:\n",
    "\n",
    "<ul>\n",
    "    <li><b>List of Venues</b></li>\n",
    "Venues refer to Manhattan - a bourough in New York City. \n",
    "Data are located at https://cocl.us/new_york_dataset and includes json file.\n",
    "\n",
    "    \n",
    "<li><b>Coordinates of Venues</b></li>\n",
    "These (latitude, longitude) will be obtained from Open Street Map APIs - an algorithm was used to determine the geodata from Nominatim . \n",
    "\n",
    "    \n",
    "<li><b>Venues Rating</b></li>\n",
    "For each venue its ranking will be identified using Foursquare.\n",
    "    </ul>\n",
    "    \n",
    "<h1>Success Criteria</h1>\n",
    "\n",
    "The success criteria of the project will be a consolidated information on top  restaurants in desired borough and nearest competitors."
   ]
  },
  {
   "cell_type": "code",
   "execution_count": null,
   "metadata": {},
   "outputs": [],
   "source": []
  }
 ],
 "metadata": {
  "kernelspec": {
   "display_name": "Python 3.6",
   "language": "python",
   "name": "python3"
  },
  "language_info": {
   "codemirror_mode": {
    "name": "ipython",
    "version": 3
   },
   "file_extension": ".py",
   "mimetype": "text/x-python",
   "name": "python",
   "nbconvert_exporter": "python",
   "pygments_lexer": "ipython3",
   "version": "3.6.9"
  }
 },
 "nbformat": 4,
 "nbformat_minor": 1
}
